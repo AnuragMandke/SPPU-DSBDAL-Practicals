{
 "cells": [
  {
   "cell_type": "markdown",
   "id": "304168ad-8968-486e-84a6-c5203aea7459",
   "metadata": {},
   "source": [
    "<h1>For Iris.csv dataset</h1>"
   ]
  },
  {
   "cell_type": "code",
   "execution_count": 26,
   "id": "a72cd975-c851-4af3-a9d4-f5a75be47440",
   "metadata": {},
   "outputs": [],
   "source": [
    "import numpy as np\n",
    "import pandas as pd"
   ]
  },
  {
   "cell_type": "code",
   "execution_count": 27,
   "id": "e36afab5-6c2b-482e-8170-711d1f840ec5",
   "metadata": {},
   "outputs": [],
   "source": [
    "data = pd.read_csv(\"/home/te/Desktop/31449_DSBDAL/Iris.csv\") #read the Iris.csv file"
   ]
  },
  {
   "cell_type": "code",
   "execution_count": 28,
   "id": "9cd77104-3fc4-47ec-9545-02bd699e6baa",
   "metadata": {},
   "outputs": [
    {
     "data": {
      "text/html": [
       "<div>\n",
       "<style scoped>\n",
       "    .dataframe tbody tr th:only-of-type {\n",
       "        vertical-align: middle;\n",
       "    }\n",
       "\n",
       "    .dataframe tbody tr th {\n",
       "        vertical-align: top;\n",
       "    }\n",
       "\n",
       "    .dataframe thead th {\n",
       "        text-align: right;\n",
       "    }\n",
       "</style>\n",
       "<table border=\"1\" class=\"dataframe\">\n",
       "  <thead>\n",
       "    <tr style=\"text-align: right;\">\n",
       "      <th></th>\n",
       "      <th>Id</th>\n",
       "      <th>SepalLengthCm</th>\n",
       "      <th>SepalWidthCm</th>\n",
       "      <th>PetalLengthCm</th>\n",
       "      <th>PetalWidthCm</th>\n",
       "      <th>Species</th>\n",
       "    </tr>\n",
       "  </thead>\n",
       "  <tbody>\n",
       "    <tr>\n",
       "      <th>0</th>\n",
       "      <td>1</td>\n",
       "      <td>5.1</td>\n",
       "      <td>3.5</td>\n",
       "      <td>1.4</td>\n",
       "      <td>0.2</td>\n",
       "      <td>Iris-setosa</td>\n",
       "    </tr>\n",
       "    <tr>\n",
       "      <th>1</th>\n",
       "      <td>2</td>\n",
       "      <td>4.9</td>\n",
       "      <td>3.0</td>\n",
       "      <td>1.4</td>\n",
       "      <td>0.2</td>\n",
       "      <td>Iris-setosa</td>\n",
       "    </tr>\n",
       "    <tr>\n",
       "      <th>2</th>\n",
       "      <td>3</td>\n",
       "      <td>4.7</td>\n",
       "      <td>3.2</td>\n",
       "      <td>1.3</td>\n",
       "      <td>0.2</td>\n",
       "      <td>Iris-setosa</td>\n",
       "    </tr>\n",
       "    <tr>\n",
       "      <th>3</th>\n",
       "      <td>4</td>\n",
       "      <td>4.6</td>\n",
       "      <td>3.1</td>\n",
       "      <td>1.5</td>\n",
       "      <td>0.2</td>\n",
       "      <td>Iris-setosa</td>\n",
       "    </tr>\n",
       "    <tr>\n",
       "      <th>4</th>\n",
       "      <td>5</td>\n",
       "      <td>5.0</td>\n",
       "      <td>3.6</td>\n",
       "      <td>1.4</td>\n",
       "      <td>0.2</td>\n",
       "      <td>Iris-setosa</td>\n",
       "    </tr>\n",
       "  </tbody>\n",
       "</table>\n",
       "</div>"
      ],
      "text/plain": [
       "   Id  SepalLengthCm  SepalWidthCm  PetalLengthCm  PetalWidthCm      Species\n",
       "0   1            5.1           3.5            1.4           0.2  Iris-setosa\n",
       "1   2            4.9           3.0            1.4           0.2  Iris-setosa\n",
       "2   3            4.7           3.2            1.3           0.2  Iris-setosa\n",
       "3   4            4.6           3.1            1.5           0.2  Iris-setosa\n",
       "4   5            5.0           3.6            1.4           0.2  Iris-setosa"
      ]
     },
     "execution_count": 28,
     "metadata": {},
     "output_type": "execute_result"
    }
   ],
   "source": [
    "data.head()"
   ]
  },
  {
   "cell_type": "code",
   "execution_count": 29,
   "id": "ea7d64a3-01ec-4a38-af5c-4669ddb905fe",
   "metadata": {},
   "outputs": [
    {
     "data": {
      "text/plain": [
       "(150, 6)"
      ]
     },
     "execution_count": 29,
     "metadata": {},
     "output_type": "execute_result"
    }
   ],
   "source": [
    "data.shape"
   ]
  },
  {
   "cell_type": "code",
   "execution_count": 30,
   "id": "39e2cf68-1ae0-4367-b18d-c2c9e19344e8",
   "metadata": {},
   "outputs": [
    {
     "data": {
      "text/plain": [
       "Id                 int64\n",
       "SepalLengthCm    float64\n",
       "SepalWidthCm     float64\n",
       "PetalLengthCm    float64\n",
       "PetalWidthCm     float64\n",
       "Species           object\n",
       "dtype: object"
      ]
     },
     "execution_count": 30,
     "metadata": {},
     "output_type": "execute_result"
    }
   ],
   "source": [
    "data.dtypes"
   ]
  },
  {
   "cell_type": "markdown",
   "id": "49feb6f2-c2cb-4876-ada2-249cf1e2a7dd",
   "metadata": {},
   "source": [
    "<h4> Check whether the dataset contains null values</h4>"
   ]
  },
  {
   "cell_type": "code",
   "execution_count": 31,
   "id": "7f2c7ef1-4385-4b9b-a46b-54038e8409e9",
   "metadata": {},
   "outputs": [
    {
     "data": {
      "text/plain": [
       "Id               0\n",
       "SepalLengthCm    0\n",
       "SepalWidthCm     0\n",
       "PetalLengthCm    0\n",
       "PetalWidthCm     0\n",
       "Species          0\n",
       "dtype: int64"
      ]
     },
     "execution_count": 31,
     "metadata": {},
     "output_type": "execute_result"
    }
   ],
   "source": [
    "data.isnull().sum()"
   ]
  },
  {
   "cell_type": "markdown",
   "id": "ec50722e-6461-4660-bcac-da662633ef54",
   "metadata": {},
   "source": [
    "<h2 style=\"font-size: 24px;\">Central Tendency Calculation with the help of in-built functions</h2>"
   ]
  },
  {
   "cell_type": "code",
   "execution_count": 32,
   "id": "d0d2c774-ac85-436b-b432-a6031cc5329b",
   "metadata": {},
   "outputs": [
    {
     "name": "stdout",
     "output_type": "stream",
     "text": [
      "Measures of Central Tendency:\n",
      "                   Mean  Median  Mode  Midrange\n",
      "Attribute                                      \n",
      "SepalLengthCm  5.843333    5.80   0.2      6.10\n",
      "SepalWidthCm   3.054000    3.00   0.2      3.20\n",
      "PetalLengthCm  3.758667    4.35   0.2      3.95\n",
      "PetalWidthCm   1.198667    1.30   0.2      1.30\n"
     ]
    }
   ],
   "source": [
    "from scipy.stats import mode\n",
    "# Dictionary to store central tendency measures for each numeric column\n",
    "central_tendency = {}\n",
    "\n",
    "# Loop through each numeric column in the dataset\n",
    "for column in data.select_dtypes(include=[float]).columns:\n",
    "    column_data = data[column]\n",
    "    mode_result = mode(column_data, nan_policy='omit')  # Handle NaN if any\n",
    "\n",
    "    central_tendency[column] = {\n",
    "        \"Mean\": column_data.mean(),\n",
    "        \"Median\": column_data.median(),\n",
    "        \"Mode\": mode_value,\n",
    "        \"Midrange\": (column_data.min() + column_data.max()) / 2,\n",
    "    }\n",
    "\n",
    "central_tendency_df = pd.DataFrame(central_tendency).T\n",
    "central_tendency_df.index.name = \"Attribute\"\n",
    "\n",
    "print(\"Measures of Central Tendency:\")\n",
    "print(central_tendency_df)\n"
   ]
  },
  {
   "cell_type": "markdown",
   "id": "ecc4ebff-d955-4678-9c72-54ad74cf18c3",
   "metadata": {},
   "source": [
    "<h2 style=\"font-size: 24px;\">Central Tendency Calculation without the help of in-built functions</h2>"
   ]
  },
  {
   "cell_type": "code",
   "execution_count": 33,
   "id": "6b072f45-9869-478b-a394-f55e44ca4f0d",
   "metadata": {},
   "outputs": [
    {
     "name": "stdout",
     "output_type": "stream",
     "text": [
      "Measures of Central Tendency for Float Columns:\n",
      "                   Mean  Median  Mode  Midrange\n",
      "Attribute                                      \n",
      "SepalLengthCm  5.843333    5.80   5.0      6.10\n",
      "SepalWidthCm   3.054000    3.00   3.0      3.20\n",
      "PetalLengthCm  3.758667    4.35   1.5      3.95\n",
      "PetalWidthCm   1.198667    1.30   0.2      1.30\n"
     ]
    }
   ],
   "source": [
    "# Dictionary to store central tendency measures for each column\n",
    "central_tendency = {}\n",
    "\n",
    "# Loop through each float column in the dataset\n",
    "for column in data.select_dtypes(include=[float]).columns:\n",
    "    column_data = data[column]\n",
    "    \n",
    "    # Calculate mean, median, mode, and midrange without using built-in functions\n",
    "    mean_value = sum(column_data) / len(column_data)\n",
    "    \n",
    "    sorted_data = sorted(column_data)\n",
    "    mid = len(sorted_data) // 2\n",
    "    \n",
    "    median_value = (sorted_data[mid] if len(sorted_data) % 2 != 0 \n",
    "                    else (sorted_data[mid - 1] + sorted_data[mid]) / 2)\n",
    "    \n",
    "    freq_dict = {}\n",
    "    for value in column_data:\n",
    "        freq_dict[value] = freq_dict.get(value, 0) + 1     \n",
    "    mode_value = max(freq_dict, key=freq_dict.get)\n",
    "    \n",
    "    midrange_value = (min(column_data) + max(column_data)) / 2\n",
    "\n",
    "    # Store the values in the dictionary\n",
    "    central_tendency[column] = {\n",
    "        \"Mean\": mean_value,\n",
    "        \"Median\": median_value,\n",
    "        \"Mode\": mode_value,\n",
    "        \"Midrange\": midrange_value,\n",
    "    }\n",
    "\n",
    "# Convert to a DataFrame for better display\n",
    "central_tendency_df = pd.DataFrame(central_tendency).T\n",
    "central_tendency_df.index.name = \"Attribute\"\n",
    "\n",
    "print(\"Measures of Central Tendency for Float Columns:\")\n",
    "print(central_tendency_df)\n"
   ]
  },
  {
   "cell_type": "code",
   "execution_count": 34,
   "id": "2e3e21b4-1921-4873-8749-ed29634ef8c9",
   "metadata": {},
   "outputs": [
    {
     "data": {
      "text/plain": [
       "Species\n",
       "Iris-setosa        50\n",
       "Iris-versicolor    50\n",
       "Iris-virginica     50\n",
       "Name: count, dtype: int64"
      ]
     },
     "execution_count": 34,
     "metadata": {},
     "output_type": "execute_result"
    }
   ],
   "source": [
    "data['Species'].value_counts()"
   ]
  },
  {
   "cell_type": "markdown",
   "id": "f1ad9d58-2c31-4f33-bd79-c5def074635a",
   "metadata": {},
   "source": [
    "<h2>Measure of Dispersion Calculation</h2>"
   ]
  },
  {
   "cell_type": "code",
   "execution_count": 35,
   "id": "9826b029-d4ac-4e29-bfab-8a4eedbfa8a1",
   "metadata": {},
   "outputs": [
    {
     "name": "stdout",
     "output_type": "stream",
     "text": [
      "Range:\n",
      "SepalLengthCm    3.6\n",
      "SepalWidthCm     2.4\n",
      "PetalLengthCm    5.9\n",
      "PetalWidthCm     2.4\n",
      "dtype: float64\n",
      "\n",
      "Variance:\n",
      "SepalLengthCm    0.685694\n",
      "SepalWidthCm     0.188004\n",
      "PetalLengthCm    3.113179\n",
      "PetalWidthCm     0.582414\n",
      "dtype: float64\n",
      "\n",
      "Standard Deviation:\n",
      "SepalLengthCm    0.828066\n",
      "SepalWidthCm     0.433594\n",
      "PetalLengthCm    1.764420\n",
      "PetalWidthCm     0.763161\n",
      "dtype: float64\n",
      "\n",
      "Quartiles (25%, 50%, 75%):\n",
      "      SepalLengthCm  SepalWidthCm  PetalLengthCm  PetalWidthCm\n",
      "0.25            5.1           2.8           1.60           0.3\n",
      "0.50            5.8           3.0           4.35           1.3\n",
      "0.75            6.4           3.3           5.10           1.8\n"
     ]
    }
   ],
   "source": [
    "# Convert data into a DataFrame\n",
    "df = pd.DataFrame(data)\n",
    "\n",
    "# Selecting only numerical columns for calculation\n",
    "numerical_data = df[['SepalLengthCm', 'SepalWidthCm', 'PetalLengthCm', 'PetalWidthCm']]\n",
    "\n",
    "# Calculate range (difference between max and min), variance, standard deviation and quartiles\n",
    "range_values = numerical_data.max() - numerical_data.min()\n",
    "variance = numerical_data.var()\n",
    "std_deviation = numerical_data.std()\n",
    "quartiles = numerical_data.quantile([0.25, 0.5, 0.75])\n",
    "\n",
    "# Display results\n",
    "print(f\"Range:\\n{range_values}\\n\")\n",
    "print(f\"Variance:\\n{variance}\\n\")\n",
    "print(f\"Standard Deviation:\\n{std_deviation}\\n\")\n",
    "print(f\"Quartiles (25%, 50%, 75%):\\n{quartiles}\")\n"
   ]
  },
  {
   "cell_type": "markdown",
   "id": "2882dcd2-4a86-4551-9550-67c8644322e0",
   "metadata": {},
   "source": [
    "<h2>Statistics for a numeric variables grouped by a categorical variable(Species)</h2>\n"
   ]
  },
  {
   "cell_type": "code",
   "execution_count": 37,
   "id": "ce7a3327-9891-4bfa-bbf8-30d0e1f2caf0",
   "metadata": {},
   "outputs": [
    {
     "name": "stdout",
     "output_type": "stream",
     "text": [
      "\n",
      "Summary Statistics for Iris Dataset (Grouped by Species):\n",
      "                SepalLengthCm                            SepalWidthCm         \\\n",
      "                         mean median  min  max       std         mean median   \n",
      "Species                                                                        \n",
      "Iris-setosa             5.006    5.0  4.3  5.8  0.352490        3.418    3.4   \n",
      "Iris-versicolor         5.936    5.9  4.9  7.0  0.516171        2.770    2.8   \n",
      "Iris-virginica          6.588    6.5  4.9  7.9  0.635880        2.974    3.0   \n",
      "\n",
      "                                    PetalLengthCm                             \\\n",
      "                 min  max       std          mean median  min  max       std   \n",
      "Species                                                                        \n",
      "Iris-setosa      2.3  4.4  0.381024         1.464   1.50  1.0  1.9  0.173511   \n",
      "Iris-versicolor  2.0  3.4  0.313798         4.260   4.35  3.0  5.1  0.469911   \n",
      "Iris-virginica   2.2  3.8  0.322497         5.552   5.55  4.5  6.9  0.551895   \n",
      "\n",
      "                PetalWidthCm                             \n",
      "                        mean median  min  max       std  \n",
      "Species                                                  \n",
      "Iris-setosa            0.244    0.2  0.1  0.6  0.107210  \n",
      "Iris-versicolor        1.326    1.3  1.0  1.8  0.197753  \n",
      "Iris-virginica         2.026    2.0  1.4  2.5  0.274650  \n"
     ]
    }
   ],
   "source": [
    "\n",
    "summary_statistics = data.groupby(\"Species\").agg(\n",
    "    {\n",
    "        \"SepalLengthCm\": [\"mean\", \"median\", \"min\", \"max\", \"std\"],\n",
    "        \"SepalWidthCm\": [\"mean\", \"median\", \"min\", \"max\", \"std\"],\n",
    "        \"PetalLengthCm\": [\"mean\", \"median\", \"min\", \"max\", \"std\"],\n",
    "        \"PetalWidthCm\": [\"mean\", \"median\", \"min\", \"max\", \"std\"],\n",
    "    }\n",
    ")\n",
    "# Print nicely formatted summary statistics\n",
    "print(\"\\nSummary Statistics for Iris Dataset (Grouped by Species):\")\n",
    "print(summary_statistics)\n"
   ]
  },
  {
   "cell_type": "markdown",
   "id": "f037db49-3a03-4962-83e5-7c6a65abbb2e",
   "metadata": {},
   "source": [
    "<h1>For nba.csv dataset</h1>"
   ]
  },
  {
   "cell_type": "code",
   "execution_count": 38,
   "id": "071b3f75-6c46-4d89-9ee3-0d8a46101154",
   "metadata": {},
   "outputs": [],
   "source": [
    "data2 = pd.read_csv(\"/home/te/Desktop/31449_DSBDAL/nba.csv\") #read from nba.csv"
   ]
  },
  {
   "cell_type": "code",
   "execution_count": 39,
   "id": "5ffe292c-ce92-43bb-804b-a307f2e65773",
   "metadata": {},
   "outputs": [
    {
     "data": {
      "text/html": [
       "<div>\n",
       "<style scoped>\n",
       "    .dataframe tbody tr th:only-of-type {\n",
       "        vertical-align: middle;\n",
       "    }\n",
       "\n",
       "    .dataframe tbody tr th {\n",
       "        vertical-align: top;\n",
       "    }\n",
       "\n",
       "    .dataframe thead th {\n",
       "        text-align: right;\n",
       "    }\n",
       "</style>\n",
       "<table border=\"1\" class=\"dataframe\">\n",
       "  <thead>\n",
       "    <tr style=\"text-align: right;\">\n",
       "      <th></th>\n",
       "      <th>Name</th>\n",
       "      <th>Team</th>\n",
       "      <th>Number</th>\n",
       "      <th>Position</th>\n",
       "      <th>Age</th>\n",
       "      <th>Height</th>\n",
       "      <th>Weight</th>\n",
       "      <th>College</th>\n",
       "      <th>Salary</th>\n",
       "    </tr>\n",
       "  </thead>\n",
       "  <tbody>\n",
       "    <tr>\n",
       "      <th>0</th>\n",
       "      <td>Avery Bradley</td>\n",
       "      <td>Boston Celtics</td>\n",
       "      <td>0.0</td>\n",
       "      <td>PG</td>\n",
       "      <td>25.0</td>\n",
       "      <td>6-2</td>\n",
       "      <td>180.0</td>\n",
       "      <td>Texas</td>\n",
       "      <td>7730337.0</td>\n",
       "    </tr>\n",
       "    <tr>\n",
       "      <th>1</th>\n",
       "      <td>Jae Crowder</td>\n",
       "      <td>Boston Celtics</td>\n",
       "      <td>99.0</td>\n",
       "      <td>SF</td>\n",
       "      <td>25.0</td>\n",
       "      <td>6-6</td>\n",
       "      <td>235.0</td>\n",
       "      <td>Marquette</td>\n",
       "      <td>6796117.0</td>\n",
       "    </tr>\n",
       "    <tr>\n",
       "      <th>2</th>\n",
       "      <td>John Holland</td>\n",
       "      <td>Boston Celtics</td>\n",
       "      <td>30.0</td>\n",
       "      <td>SG</td>\n",
       "      <td>27.0</td>\n",
       "      <td>6-5</td>\n",
       "      <td>205.0</td>\n",
       "      <td>Boston University</td>\n",
       "      <td>NaN</td>\n",
       "    </tr>\n",
       "    <tr>\n",
       "      <th>3</th>\n",
       "      <td>R.J. Hunter</td>\n",
       "      <td>Boston Celtics</td>\n",
       "      <td>28.0</td>\n",
       "      <td>SG</td>\n",
       "      <td>22.0</td>\n",
       "      <td>6-5</td>\n",
       "      <td>185.0</td>\n",
       "      <td>Georgia State</td>\n",
       "      <td>1148640.0</td>\n",
       "    </tr>\n",
       "    <tr>\n",
       "      <th>4</th>\n",
       "      <td>Jonas Jerebko</td>\n",
       "      <td>Boston Celtics</td>\n",
       "      <td>8.0</td>\n",
       "      <td>PF</td>\n",
       "      <td>29.0</td>\n",
       "      <td>6-10</td>\n",
       "      <td>231.0</td>\n",
       "      <td>NaN</td>\n",
       "      <td>5000000.0</td>\n",
       "    </tr>\n",
       "  </tbody>\n",
       "</table>\n",
       "</div>"
      ],
      "text/plain": [
       "            Name            Team  Number Position   Age Height  Weight  \\\n",
       "0  Avery Bradley  Boston Celtics     0.0       PG  25.0    6-2   180.0   \n",
       "1    Jae Crowder  Boston Celtics    99.0       SF  25.0    6-6   235.0   \n",
       "2   John Holland  Boston Celtics    30.0       SG  27.0    6-5   205.0   \n",
       "3    R.J. Hunter  Boston Celtics    28.0       SG  22.0    6-5   185.0   \n",
       "4  Jonas Jerebko  Boston Celtics     8.0       PF  29.0   6-10   231.0   \n",
       "\n",
       "             College     Salary  \n",
       "0              Texas  7730337.0  \n",
       "1          Marquette  6796117.0  \n",
       "2  Boston University        NaN  \n",
       "3      Georgia State  1148640.0  \n",
       "4                NaN  5000000.0  "
      ]
     },
     "execution_count": 39,
     "metadata": {},
     "output_type": "execute_result"
    }
   ],
   "source": [
    "data2.head()"
   ]
  },
  {
   "cell_type": "code",
   "execution_count": 40,
   "id": "13295da3-bb3b-442e-9cfa-30518971c9a1",
   "metadata": {},
   "outputs": [
    {
     "data": {
      "text/plain": [
       "(458, 9)"
      ]
     },
     "execution_count": 40,
     "metadata": {},
     "output_type": "execute_result"
    }
   ],
   "source": [
    "data2.shape"
   ]
  },
  {
   "cell_type": "code",
   "execution_count": 41,
   "id": "1e9782b2-251f-4295-ae67-62eae218d387",
   "metadata": {},
   "outputs": [
    {
     "data": {
      "text/plain": [
       "Name         object\n",
       "Team         object\n",
       "Number      float64\n",
       "Position     object\n",
       "Age         float64\n",
       "Height       object\n",
       "Weight      float64\n",
       "College      object\n",
       "Salary      float64\n",
       "dtype: object"
      ]
     },
     "execution_count": 41,
     "metadata": {},
     "output_type": "execute_result"
    }
   ],
   "source": [
    "data2.dtypes"
   ]
  },
  {
   "cell_type": "code",
   "execution_count": 42,
   "id": "00f7d84b-9fa8-4718-9d91-dad800b9f9b4",
   "metadata": {},
   "outputs": [
    {
     "data": {
      "text/plain": [
       "Name         1\n",
       "Team         1\n",
       "Number       1\n",
       "Position     1\n",
       "Age          1\n",
       "Height       1\n",
       "Weight       1\n",
       "College     85\n",
       "Salary      12\n",
       "dtype: int64"
      ]
     },
     "execution_count": 42,
     "metadata": {},
     "output_type": "execute_result"
    }
   ],
   "source": [
    "data2.isnull().sum()"
   ]
  },
  {
   "cell_type": "code",
   "execution_count": 43,
   "id": "cdfd77ea-f162-4e1d-b837-096a0f332d17",
   "metadata": {},
   "outputs": [
    {
     "data": {
      "text/plain": [
       "Name        string[python]\n",
       "Team                object\n",
       "Number             float64\n",
       "Position            object\n",
       "Age                float64\n",
       "Height              object\n",
       "Weight             float64\n",
       "College     string[python]\n",
       "Salary             float64\n",
       "dtype: object"
      ]
     },
     "execution_count": 43,
     "metadata": {},
     "output_type": "execute_result"
    }
   ],
   "source": [
    "columns_to_convert = ['Name','College']\n",
    "data2[columns_to_convert] = data2[columns_to_convert].apply(lambda x: x.astype('string'))\n",
    "data2.dtypes"
   ]
  },
  {
   "cell_type": "code",
   "execution_count": 44,
   "id": "21cab858-9b35-4471-87b1-04ae1b57528f",
   "metadata": {},
   "outputs": [
    {
     "data": {
      "text/plain": [
       "Name        1\n",
       "Team        1\n",
       "Number      1\n",
       "Position    1\n",
       "Age         1\n",
       "Height      1\n",
       "Weight      1\n",
       "College     0\n",
       "Salary      0\n",
       "dtype: int64"
      ]
     },
     "execution_count": 44,
     "metadata": {},
     "output_type": "execute_result"
    }
   ],
   "source": [
    "data2 = data2.fillna({\n",
    "    'College': 'Unknown',\n",
    "    'Salary': data2['Salary'].mean()  # Filling Salary NaN with its mean\n",
    "})\n",
    "data2.isnull().sum()"
   ]
  },
  {
   "cell_type": "markdown",
   "id": "f9fceb22-147b-4a5e-b55d-d4151616dfb4",
   "metadata": {},
   "source": [
    "<h2 style=\"font-size: 24px;\">Central Tendency Calculation with the help of in-built functions</h2>"
   ]
  },
  {
   "cell_type": "code",
   "execution_count": 45,
   "id": "3fc6fb3c-9f22-498b-9152-26257498dffb",
   "metadata": {},
   "outputs": [
    {
     "name": "stdout",
     "output_type": "stream",
     "text": [
      "Measures of Central Tendency:\n",
      "                   Mean     Median  Mode    Midrange\n",
      "Attribute                                           \n",
      "Number     1.767834e+01       13.0   0.2        49.5\n",
      "Age        2.693873e+01       26.0   0.2        29.5\n",
      "Weight     2.215230e+02      220.0   0.2       234.0\n",
      "Salary     4.842684e+06  2880600.0   0.2  12515444.0\n"
     ]
    }
   ],
   "source": [
    "from scipy.stats import mode\n",
    "# Dictionary to store central tendency measures for each numeric column\n",
    "central_tendency = {}\n",
    "\n",
    "# Loop through each numeric column in the dataset\n",
    "for column in data2.select_dtypes(include=[float]).columns:\n",
    "    column_data = data2[column]\n",
    "    mode_result = mode(column_data, nan_policy='omit')  # Handle NaN if any\n",
    "\n",
    "    central_tendency[column] = {\n",
    "        \"Mean\": column_data.mean(),\n",
    "        \"Median\": column_data.median(),\n",
    "        \"Mode\": mode_value,\n",
    "        \"Midrange\": (column_data.min() + column_data.max()) / 2,\n",
    "    }\n",
    "\n",
    "central_tendency_df = pd.DataFrame(central_tendency).T\n",
    "central_tendency_df.index.name = \"Attribute\"\n",
    "\n",
    "print(\"Measures of Central Tendency:\")\n",
    "print(central_tendency_df)\n"
   ]
  },
  {
   "cell_type": "markdown",
   "id": "094c1465-d466-4e4d-928e-ba89c7e57681",
   "metadata": {},
   "source": [
    "<h2 style=\"font-size: 24px;\">Central Tendency Calculation without in-built functions</h2>"
   ]
  },
  {
   "cell_type": "code",
   "execution_count": 46,
   "id": "43fed5b8-a75a-4a9c-96cc-b2c705a6e7c5",
   "metadata": {},
   "outputs": [
    {
     "name": "stdout",
     "output_type": "stream",
     "text": [
      "Measures of Central Tendency for Float Columns:\n",
      "                   Mean     Median      Mode    Midrange\n",
      "Attribute                                               \n",
      "Number     1.767834e+01       13.0       5.0        49.5\n",
      "Age        2.693873e+01       26.0      24.0        29.5\n",
      "Weight     2.215230e+02      220.0     220.0       234.0\n",
      "Salary     4.842684e+06  2880600.0  947276.0  12515444.0\n"
     ]
    }
   ],
   "source": [
    "import math\n",
    "# Dictionary to store central tendency measures for each column\n",
    "central_tendency = {}\n",
    "\n",
    "# Loop through each float column in the dataset\n",
    "for column in data2.select_dtypes(include=[float]).columns:\n",
    "    column_data = data2[column]\n",
    "    \n",
    "    # Calculate mean, median, mode, and midrange without using built-in functions\n",
    "    filtered_data = [value for value in column_data if not math.isnan(value)]\n",
    "\n",
    "    # Calculate mean (ignoring NaN)\n",
    "    mean_value = sum(filtered_data) / len(filtered_data)\n",
    "    sorted_data = sorted(column_data)\n",
    "    mid = len(sorted_data) // 2\n",
    "    \n",
    "    median_value = (sorted_data[mid] if len(sorted_data) % 2 != 0 \n",
    "                    else (sorted_data[mid - 1] + sorted_data[mid]) / 2)\n",
    "    \n",
    "    freq_dict = {}\n",
    "    for value in column_data:\n",
    "        freq_dict[value] = freq_dict.get(value, 0) + 1     \n",
    "    mode_value = max(freq_dict, key=freq_dict.get)\n",
    "    \n",
    "    midrange_value = (min(column_data) + max(column_data)) / 2\n",
    "\n",
    "    # Store the values in the dictionary\n",
    "    central_tendency[column] = {\n",
    "        \"Mean\": mean_value,\n",
    "        \"Median\": median_value,\n",
    "        \"Mode\": mode_value,\n",
    "        \"Midrange\": midrange_value,\n",
    "    }\n",
    "\n",
    "# Convert to a DataFrame for better display\n",
    "central_tendency_df = pd.DataFrame(central_tendency).T\n",
    "central_tendency_df.index.name = \"Attribute\"\n",
    "\n",
    "print(\"Measures of Central Tendency for Float Columns:\")\n",
    "print(central_tendency_df)\n"
   ]
  },
  {
   "cell_type": "markdown",
   "id": "1ee881bd-2ee7-4f62-8983-a7a3f32fedd0",
   "metadata": {},
   "source": [
    "<h2>Statistics for a numeric variable grouped by a categorical variable</h2>"
   ]
  },
  {
   "cell_type": "code",
   "execution_count": 55,
   "id": "fd401f28-1e62-48a3-ac27-b334506212d7",
   "metadata": {},
   "outputs": [
    {
     "name": "stdout",
     "output_type": "stream",
     "text": [
      "\n",
      "Summary Statistics for Iris Dataset (Grouped by Species):\n",
      "                            Weight                                  \\\n",
      "                              mean median    min    max        std   \n",
      "Team                                                                 \n",
      "Atlanta Hawks           221.266667  225.0  172.0  260.0  25.982045   \n",
      "Boston Celtics          219.466667  220.0  180.0  260.0  25.606547   \n",
      "Brooklyn Nets           215.600000  216.0  175.0  275.0  24.377390   \n",
      "Charlotte Hornets       220.400000  210.0  184.0  289.0  29.908909   \n",
      "Chicago Bulls           218.933333  225.0  161.0  275.0  29.336634   \n",
      "Cleveland Cavaliers     227.866667  225.0  179.0  275.0  27.655706   \n",
      "Dallas Mavericks        227.000000  230.0  185.0  275.0  27.836256   \n",
      "Denver Nuggets          217.533333  218.0  175.0  280.0  26.297384   \n",
      "Detroit Pistons         222.200000  210.0  172.0  279.0  28.899333   \n",
      "Golden State Warriors   224.600000  220.0  175.0  273.0  29.642633   \n",
      "Houston Rockets         220.333333  222.0  185.0  265.0  24.578349   \n",
      "Indiana Pacers          222.266667  225.0  180.0  255.0  25.982045   \n",
      "Los Angeles Clippers    219.733333  225.0  175.0  265.0  28.265240   \n",
      "Los Angeles Lakers      227.066667  230.0  175.0  270.0  30.167311   \n",
      "Memphis Grizzlies       218.000000  223.0  165.0  270.0  30.624865   \n",
      "Miami Heat              218.400000  220.0  165.0  265.0  26.481260   \n",
      "Milwaukee Bucks         224.062500  223.5  190.0  265.0  24.340553   \n",
      "Minnesota Timberwolves  228.642857  233.5  189.0  307.0  30.890893   \n",
      "New Orleans Pelicans    221.000000  220.0  170.0  270.0  25.731520   \n",
      "New York Knicks         223.625000  215.0  195.0  278.0  25.038304   \n",
      "Oklahoma City Thunder   229.400000  230.0  185.0  255.0  22.260792   \n",
      "Orlando Magic           213.357143  214.0  169.0  260.0  30.047673   \n",
      "Philadelphia 76ers      222.133333  215.0  175.0  275.0  27.015516   \n",
      "Phoenix Suns            218.600000  215.0  175.0  260.0  27.218166   \n",
      "Portland Trail Blazers  218.600000  215.0  173.0  265.0  25.178789   \n",
      "Sacramento Kings        221.333333  225.0  175.0  270.0  28.019551   \n",
      "San Antonio Spurs       223.933333  230.0  185.0  290.0  29.711630   \n",
      "Toronto Raptors         221.800000  220.0  190.0  255.0  22.662745   \n",
      "Utah Jazz               220.000000  226.0  179.0  265.0  24.695286   \n",
      "Washington Wizards      219.000000  218.0  190.0  250.0  21.672893   \n",
      "\n",
      "                              Salary                                       \\\n",
      "                                mean        median        min         max   \n",
      "Team                                                                        \n",
      "Atlanta Hawks           4.860197e+06  2.854940e+06   525093.0  18671659.0   \n",
      "Boston Celtics          4.225583e+06  3.425510e+06  1148640.0  12000000.0   \n",
      "Brooklyn Nets           3.501898e+06  1.335480e+06   134215.0  19689000.0   \n",
      "Charlotte Hornets       5.222728e+06  4.204200e+06   189455.0  13500000.0   \n",
      "Chicago Bulls           5.785559e+06  2.380440e+06   525093.0  20093064.0   \n",
      "Cleveland Cavaliers     7.455425e+06  4.950000e+06   111196.0  22970500.0   \n",
      "Dallas Mavericks        4.746582e+06  3.950313e+06   525093.0  16407500.0   \n",
      "Denver Nuggets          4.330974e+06  3.000000e+06   258489.0  14000000.0   \n",
      "Detroit Pistons         4.477884e+06  2.891760e+06   111444.0  16000000.0   \n",
      "Golden State Warriors   5.924600e+06  3.815000e+06   289755.0  15501000.0   \n",
      "Houston Rockets         5.018868e+06  2.288205e+06   200600.0  22359364.0   \n",
      "Indiana Pacers          4.450122e+06  4.000000e+06   211744.0  17120106.0   \n",
      "Los Angeles Clippers    6.323643e+06  3.110796e+06   111444.0  21468695.0   \n",
      "Los Angeles Lakers      4.784695e+06  1.724250e+06   525093.0  25000000.0   \n",
      "Memphis Grizzlies       5.328979e+06  4.842684e+06   700902.0  19688000.0   \n",
      "Miami Heat              6.146736e+06  2.854940e+06   261894.0  22192730.0   \n",
      "Milwaukee Bucks         4.350220e+06  2.254167e+06   295327.0  16407500.0   \n",
      "Minnesota Timberwolves  4.610884e+06  3.049180e+06   947276.0  12700000.0   \n",
      "New Orleans Pelicans    4.355304e+06  2.850000e+06    55722.0  15514031.0   \n",
      "New York Knicks         4.581494e+06  2.225421e+06    30888.0  22875000.0   \n",
      "Oklahoma City Thunder   6.251020e+06  3.344000e+06   222888.0  20158622.0   \n",
      "Orlando Magic           4.297248e+06  3.956580e+06   845059.0  11250000.0   \n",
      "Philadelphia 76ers      2.389039e+06  1.074169e+06   525093.0   6500000.0   \n",
      "Phoenix Suns            4.229676e+06  2.041080e+06    55722.0  13500000.0   \n",
      "Portland Trail Blazers  3.220121e+06  2.854940e+06   525093.0   8042895.0   \n",
      "Sacramento Kings        4.778911e+06  3.156600e+06   525093.0  15851950.0   \n",
      "San Antonio Spurs       5.629516e+06  2.814000e+06   200600.0  19689000.0   \n",
      "Toronto Raptors         4.741174e+06  2.900000e+06   245177.0  13600000.0   \n",
      "Utah Jazz               4.204006e+06  2.433333e+06   900000.0  15409570.0   \n",
      "Washington Wizards      5.088576e+06  4.000000e+06   200600.0  15851950.0   \n",
      "\n",
      "                                      \n",
      "                                 std  \n",
      "Team                                  \n",
      "Atlanta Hawks           5.194508e+06  \n",
      "Boston Celtics          3.036396e+06  \n",
      "Brooklyn Nets           5.317817e+06  \n",
      "Charlotte Hornets       4.538601e+06  \n",
      "Chicago Bulls           6.251088e+06  \n",
      "Cleveland Cavaliers     7.484116e+06  \n",
      "Dallas Mavericks        5.030279e+06  \n",
      "Denver Nuggets          4.165468e+06  \n",
      "Detroit Pistons         4.668478e+06  \n",
      "Golden State Warriors   5.664282e+06  \n",
      "Houston Rockets         6.414749e+06  \n",
      "Indiana Pacers          4.584514e+06  \n",
      "Los Angeles Clippers    7.600225e+06  \n",
      "Los Angeles Lakers      6.835688e+06  \n",
      "Memphis Grizzlies       4.556591e+06  \n",
      "Miami Heat              7.285680e+06  \n",
      "Milwaukee Bucks         4.875071e+06  \n",
      "Minnesota Timberwolves  3.977783e+06  \n",
      "New Orleans Pelicans    4.537874e+06  \n",
      "New York Knicks         5.952487e+06  \n",
      "Oklahoma City Thunder   6.632400e+06  \n",
      "Orlando Magic           3.068412e+06  \n",
      "Philadelphia 76ers      1.953024e+06  \n",
      "Phoenix Suns            5.022561e+06  \n",
      "Portland Trail Blazers  2.392741e+06  \n",
      "Sacramento Kings        4.701792e+06  \n",
      "San Antonio Spurs       6.396804e+06  \n",
      "Toronto Raptors         4.195943e+06  \n",
      "Utah Jazz               4.467878e+06  \n",
      "Washington Wizards      4.869388e+06  \n"
     ]
    }
   ],
   "source": [
    "\n",
    "summary_statistics = data2.groupby(\"Team\").agg(\n",
    "    {\n",
    "        \"Weight\": [\"mean\", \"median\", \"min\", \"max\", \"std\"],\n",
    "        \"Salary\": [\"mean\", \"median\", \"min\", \"max\", \"std\"]\n",
    "    }\n",
    ")\n",
    "# Print nicely formatted summary statistics\n",
    "print(\"\\nSummary Statistics for Iris Dataset (Grouped by Species):\")\n",
    "print(summary_statistics)\n",
    "\n"
   ]
  },
  {
   "cell_type": "markdown",
   "id": "df18401d-f920-4b30-92dc-35d5239c5cfd",
   "metadata": {},
   "source": [
    "<h2>Measure of Dispersion Calculation</h2>"
   ]
  },
  {
   "cell_type": "code",
   "execution_count": 57,
   "id": "14fb67f4-267d-4654-89fc-614644738dbd",
   "metadata": {},
   "outputs": [
    {
     "name": "stdout",
     "output_type": "stream",
     "text": [
      "Range:\n",
      "Age             21.0\n",
      "Weight         146.0\n",
      "Salary    24969112.0\n",
      "dtype: float64\n",
      "\n",
      "Variance:\n",
      "Age       1.939536e+01\n",
      "Weight    6.952895e+02\n",
      "Salary    2.662690e+13\n",
      "dtype: float64\n",
      "\n",
      "Standard Deviation:\n",
      "Age       4.404016e+00\n",
      "Weight    2.636834e+01\n",
      "Salary    5.160126e+06\n",
      "dtype: float64\n",
      "\n",
      "Quartiles (25%, 50%, 75%):\n",
      "       Age  Weight     Salary\n",
      "0.25  24.0   200.0  1100602.0\n",
      "0.50  26.0   220.0  2880600.0\n",
      "0.75  30.0   240.0  6323553.0\n"
     ]
    }
   ],
   "source": [
    "# Convert data into a DataFrame\n",
    "df2 = pd.DataFrame(data2)\n",
    "\n",
    "# Selecting only numerical columns for calculation\n",
    "numerical_data = df2[['Age', 'Weight', 'Salary']]\n",
    "\n",
    "# Calculate range (difference between max and min), variance, standard deviation and quartiles\n",
    "range_values = numerical_data.max() - numerical_data.min()\n",
    "variance = numerical_data.var()\n",
    "std_deviation = numerical_data.std()\n",
    "quartiles = numerical_data.quantile([0.25, 0.5, 0.75])\n",
    "\n",
    "# Display results\n",
    "print(f\"Range:\\n{range_values}\\n\")\n",
    "print(f\"Variance:\\n{variance}\\n\")\n",
    "print(f\"Standard Deviation:\\n{std_deviation}\\n\")\n",
    "print(f\"Quartiles (25%, 50%, 75%):\\n{quartiles}\")"
   ]
  }
 ],
 "metadata": {
  "kernelspec": {
   "display_name": "Python 3 (ipykernel)",
   "language": "python",
   "name": "python3"
  },
  "language_info": {
   "codemirror_mode": {
    "name": "ipython",
    "version": 3
   },
   "file_extension": ".py",
   "mimetype": "text/x-python",
   "name": "python",
   "nbconvert_exporter": "python",
   "pygments_lexer": "ipython3",
   "version": "3.10.12"
  }
 },
 "nbformat": 4,
 "nbformat_minor": 5
}
