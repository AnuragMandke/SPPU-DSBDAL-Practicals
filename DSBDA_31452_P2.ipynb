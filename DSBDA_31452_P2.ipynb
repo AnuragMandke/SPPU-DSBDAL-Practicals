{
 "cells": [
  {
   "cell_type": "code",
   "execution_count": 43,
   "id": "5fbe3cd4-bcae-40f2-8520-3e7d8c0d6434",
   "metadata": {},
   "outputs": [],
   "source": [
    "import numpy as np   \n",
    "from sklearn.linear_model import LinearRegression\n",
    "import pandas as pd    \n",
    "import matplotlib.pyplot as plt \n",
    "%matplotlib inline \n",
    "import seaborn as sns\n",
    "from sklearn.model_selection import train_test_split # Sklearn package's randomized data splitting function\n",
    "from sklearn.preprocessing import LabelEncoder\n",
    "from sklearn.cluster import KMeans    #Importing the necessary required python libraries"
   ]
  },
  {
   "cell_type": "code",
   "execution_count": 44,
   "id": "7d56fd39-7ed3-4af6-8370-60a2e7256881",
   "metadata": {},
   "outputs": [
    {
     "data": {
      "text/plain": [
       "(1000, 8)"
      ]
     },
     "execution_count": 44,
     "metadata": {},
     "output_type": "execute_result"
    }
   ],
   "source": [
    "df = pd.read_csv(\"StudentsPerformance (1).csv\")   #Loading the student performance dataset onto a panda dataframe  \n",
    "df.shape   #Calculating the dimensions of the df"
   ]
  },
  {
   "cell_type": "code",
   "execution_count": 45,
   "id": "8fcbc783-1002-4728-a82d-f758dcce1d47",
   "metadata": {},
   "outputs": [
    {
     "data": {
      "text/plain": [
       "gender                         0\n",
       "race/ethnicity                 0\n",
       "parental level of education    0\n",
       "lunch                          0\n",
       "test preparation course        0\n",
       "math score                     0\n",
       "reading score                  0\n",
       "writing score                  0\n",
       "dtype: int64"
      ]
     },
     "execution_count": 45,
     "metadata": {},
     "output_type": "execute_result"
    }
   ],
   "source": [
    "df.isnull().sum()  #Checking for null values"
   ]
  },
  {
   "cell_type": "code",
   "execution_count": 46,
   "id": "24a7ad4c-da9a-4a4e-94fb-e01b2f9fe504",
   "metadata": {},
   "outputs": [
    {
     "data": {
      "text/plain": [
       "8"
      ]
     },
     "execution_count": 46,
     "metadata": {},
     "output_type": "execute_result"
    }
   ],
   "source": [
    "df.isna().any().count()"
   ]
  },
  {
   "cell_type": "code",
   "execution_count": 47,
   "id": "9634daf3-641c-443b-a80e-e8a7c4a32511",
   "metadata": {},
   "outputs": [
    {
     "data": {
      "text/plain": [
       "8"
      ]
     },
     "execution_count": 47,
     "metadata": {},
     "output_type": "execute_result"
    }
   ],
   "source": [
    "df.isnull().any().count()"
   ]
  },
  {
   "cell_type": "code",
   "execution_count": 48,
   "id": "9b853638-d36d-4beb-aa1e-a0a8d3c192de",
   "metadata": {},
   "outputs": [
    {
     "data": {
      "text/plain": [
       "gender                         object\n",
       "race/ethnicity                 object\n",
       "parental level of education    object\n",
       "lunch                          object\n",
       "test preparation course        object\n",
       "math score                      int64\n",
       "reading score                   int64\n",
       "writing score                   int64\n",
       "dtype: object"
      ]
     },
     "execution_count": 48,
     "metadata": {},
     "output_type": "execute_result"
    }
   ],
   "source": [
    "df.dtypes   #Checking the datatypes"
   ]
  },
  {
   "cell_type": "code",
   "execution_count": 49,
   "id": "580afd3f-fd52-42cd-8b63-bb90f245aaf6",
   "metadata": {},
   "outputs": [],
   "source": [
    "df[\"test preparation course\"].replace(['completed', 'none'], ['completed', None], inplace = True)   #Inserting Null values"
   ]
  },
  {
   "cell_type": "code",
   "execution_count": 50,
   "id": "4999c2dc-256b-4c28-908f-159e1531438f",
   "metadata": {},
   "outputs": [
    {
     "data": {
      "text/plain": [
       "gender                           0\n",
       "race/ethnicity                   0\n",
       "parental level of education      0\n",
       "lunch                            0\n",
       "test preparation course        642\n",
       "math score                       0\n",
       "reading score                    0\n",
       "writing score                    0\n",
       "dtype: int64"
      ]
     },
     "execution_count": 50,
     "metadata": {},
     "output_type": "execute_result"
    }
   ],
   "source": [
    "df.isnull().sum()"
   ]
  },
  {
   "cell_type": "code",
   "execution_count": 51,
   "id": "dfac6c42-3b00-47c2-bfda-5e1d2bf78360",
   "metadata": {},
   "outputs": [
    {
     "name": "stderr",
     "output_type": "stream",
     "text": [
      "/tmp/ipykernel_3576/2316235123.py:5: SettingWithCopyWarning: \n",
      "A value is trying to be set on a copy of a slice from a DataFrame\n",
      "\n",
      "See the caveats in the documentation: https://pandas.pydata.org/pandas-docs/stable/user_guide/indexing.html#returning-a-view-versus-a-copy\n",
      "  column.loc[indices] = np.nan    #Replacing the value at those indices with null values\n",
      "/tmp/ipykernel_3576/2316235123.py:5: SettingWithCopyWarning: \n",
      "A value is trying to be set on a copy of a slice from a DataFrame\n",
      "\n",
      "See the caveats in the documentation: https://pandas.pydata.org/pandas-docs/stable/user_guide/indexing.html#returning-a-view-versus-a-copy\n",
      "  column.loc[indices] = np.nan    #Replacing the value at those indices with null values\n",
      "/tmp/ipykernel_3576/2316235123.py:5: SettingWithCopyWarning: \n",
      "A value is trying to be set on a copy of a slice from a DataFrame\n",
      "\n",
      "See the caveats in the documentation: https://pandas.pydata.org/pandas-docs/stable/user_guide/indexing.html#returning-a-view-versus-a-copy\n",
      "  column.loc[indices] = np.nan    #Replacing the value at those indices with null values\n"
     ]
    },
    {
     "data": {
      "text/plain": [
       "gender                           0\n",
       "race/ethnicity                   0\n",
       "parental level of education      0\n",
       "lunch                            0\n",
       "test preparation course        642\n",
       "math score                      56\n",
       "reading score                   61\n",
       "writing score                   60\n",
       "dtype: int64"
      ]
     },
     "execution_count": 51,
     "metadata": {},
     "output_type": "execute_result"
    }
   ],
   "source": [
    "import numpy as np\n",
    "\n",
    "def introduce_nulls(column, num_nulls):\n",
    "    indices = np.random.choice(column.index, num_nulls, replace=False)   #Generating a list of random indices\n",
    "    column.loc[indices] = np.nan    #Replacing the value at those indices with null values\n",
    "    return column\n",
    "\n",
    "np.random.seed(42)  \n",
    "for col in ['math score', 'reading score', 'writing score']:\n",
    "    num_nulls = np.random.randint(50, 71)   #Generating a random number between 50 and 71\n",
    "    df[col] = introduce_nulls(df[col], num_nulls)\n",
    "\n",
    "df.isnull().sum()    #Checking if null values inserted successfully\n"
   ]
  },
  {
   "cell_type": "code",
   "execution_count": 52,
   "id": "13db2f35-d125-419f-b792-9b86f21e9d97",
   "metadata": {},
   "outputs": [],
   "source": [
    "df[['math score', 'reading score', 'writing score']] = df[['math score', 'reading score', 'writing score']].apply(lambda col: col.fillna(col.median()))"
   ]
  },
  {
   "cell_type": "code",
   "execution_count": 53,
   "id": "dd7da065-9174-4464-83d9-0aab12038e9a",
   "metadata": {},
   "outputs": [
    {
     "data": {
      "text/plain": [
       "gender                           0\n",
       "race/ethnicity                   0\n",
       "parental level of education      0\n",
       "lunch                            0\n",
       "test preparation course        642\n",
       "math score                       0\n",
       "reading score                    0\n",
       "writing score                    0\n",
       "dtype: int64"
      ]
     },
     "execution_count": 53,
     "metadata": {},
     "output_type": "execute_result"
    }
   ],
   "source": [
    "df.isnull().sum()\n"
   ]
  },
  {
   "cell_type": "code",
   "execution_count": 54,
   "id": "2d6992b0-297e-4a00-a54b-44368a7cd707",
   "metadata": {},
   "outputs": [
    {
     "data": {
      "text/html": [
       "<div>\n",
       "<style scoped>\n",
       "    .dataframe tbody tr th:only-of-type {\n",
       "        vertical-align: middle;\n",
       "    }\n",
       "\n",
       "    .dataframe tbody tr th {\n",
       "        vertical-align: top;\n",
       "    }\n",
       "\n",
       "    .dataframe thead th {\n",
       "        text-align: right;\n",
       "    }\n",
       "</style>\n",
       "<table border=\"1\" class=\"dataframe\">\n",
       "  <thead>\n",
       "    <tr style=\"text-align: right;\">\n",
       "      <th></th>\n",
       "      <th>math score</th>\n",
       "      <th>reading score</th>\n",
       "      <th>writing score</th>\n",
       "    </tr>\n",
       "  </thead>\n",
       "  <tbody>\n",
       "    <tr>\n",
       "      <th>count</th>\n",
       "      <td>1000.000000</td>\n",
       "      <td>1000.000000</td>\n",
       "      <td>1000.000000</td>\n",
       "    </tr>\n",
       "    <tr>\n",
       "      <th>mean</th>\n",
       "      <td>66.164000</td>\n",
       "      <td>69.165000</td>\n",
       "      <td>68.129000</td>\n",
       "    </tr>\n",
       "    <tr>\n",
       "      <th>std</th>\n",
       "      <td>14.497078</td>\n",
       "      <td>14.158964</td>\n",
       "      <td>14.656301</td>\n",
       "    </tr>\n",
       "    <tr>\n",
       "      <th>min</th>\n",
       "      <td>18.000000</td>\n",
       "      <td>17.000000</td>\n",
       "      <td>10.000000</td>\n",
       "    </tr>\n",
       "    <tr>\n",
       "      <th>25%</th>\n",
       "      <td>57.000000</td>\n",
       "      <td>60.000000</td>\n",
       "      <td>58.750000</td>\n",
       "    </tr>\n",
       "    <tr>\n",
       "      <th>50%</th>\n",
       "      <td>66.000000</td>\n",
       "      <td>70.000000</td>\n",
       "      <td>69.000000</td>\n",
       "    </tr>\n",
       "    <tr>\n",
       "      <th>75%</th>\n",
       "      <td>76.000000</td>\n",
       "      <td>78.000000</td>\n",
       "      <td>78.000000</td>\n",
       "    </tr>\n",
       "    <tr>\n",
       "      <th>max</th>\n",
       "      <td>100.000000</td>\n",
       "      <td>100.000000</td>\n",
       "      <td>100.000000</td>\n",
       "    </tr>\n",
       "  </tbody>\n",
       "</table>\n",
       "</div>"
      ],
      "text/plain": [
       "        math score  reading score  writing score\n",
       "count  1000.000000    1000.000000    1000.000000\n",
       "mean     66.164000      69.165000      68.129000\n",
       "std      14.497078      14.158964      14.656301\n",
       "min      18.000000      17.000000      10.000000\n",
       "25%      57.000000      60.000000      58.750000\n",
       "50%      66.000000      70.000000      69.000000\n",
       "75%      76.000000      78.000000      78.000000\n",
       "max     100.000000     100.000000     100.000000"
      ]
     },
     "execution_count": 54,
     "metadata": {},
     "output_type": "execute_result"
    }
   ],
   "source": [
    " df.describe()   "
   ]
  },
  {
   "cell_type": "code",
   "execution_count": 55,
   "id": "f603e8cd-df8a-4e50-a200-907eaf72441b",
   "metadata": {},
   "outputs": [],
   "source": [
    "numeric_cols = ['math score','reading score','writing score']\n",
    "medianFiller = lambda x: x.fillna(x.median())\n",
    "df[numeric_cols] = df[numeric_cols].apply(medianFiller,axis=0)\n",
    "\n",
    "df['math score'] = df['math score'].astype('float64')   #Converting into float64 dtype "
   ]
  },
  {
   "cell_type": "code",
   "execution_count": 56,
   "id": "4dfb592f-f967-47c2-8c18-962cb7448758",
   "metadata": {},
   "outputs": [
    {
     "name": "stderr",
     "output_type": "stream",
     "text": [
      "/tmp/ipykernel_3576/3690173178.py:1: UserWarning: \n",
      "\n",
      "`distplot` is a deprecated function and will be removed in seaborn v0.14.0.\n",
      "\n",
      "Please adapt your code to use either `displot` (a figure-level function with\n",
      "similar flexibility) or `histplot` (an axes-level function for histograms).\n",
      "\n",
      "For a guide to updating your code to use the new functions, please see\n",
      "https://gist.github.com/mwaskom/de44147ed2974457ad6372750bbe5751\n",
      "\n",
      "  sns.distplot(df[[\"math score\"]])   #Plotting a density curve to check for skewness\n"
     ]
    },
    {
     "data": {
      "text/plain": [
       "<Axes: ylabel='Density'>"
      ]
     },
     "execution_count": 56,
     "metadata": {},
     "output_type": "execute_result"
    },
    {
     "data": {
      "image/png": "[encoded data removed]",
      "text/plain": [
       "<Figure size 640x480 with 1 Axes>"
      ]
     },
     "metadata": {},
     "output_type": "display_data"
    }
   ],
   "source": [
    "sns.distplot(df[[\"math score\"]])   #Plotting a density curve to check for skewness"
   ]
  },
  {
   "cell_type": "code",
   "execution_count": 57,
   "id": "f10f70cc-b92d-4c74-9e6a-cc52f0cc5b79",
   "metadata": {},
   "outputs": [
    {
     "name": "stderr",
     "output_type": "stream",
     "text": [
      "/tmp/ipykernel_3576/3346480777.py:1: UserWarning: \n",
      "\n",
      "`distplot` is a deprecated function and will be removed in seaborn v0.14.0.\n",
      "\n",
      "Please adapt your code to use either `displot` (a figure-level function with\n",
      "similar flexibility) or `histplot` (an axes-level function for histograms).\n",
      "\n",
      "For a guide to updating your code to use the new functions, please see\n",
      "https://gist.github.com/mwaskom/de44147ed2974457ad6372750bbe5751\n",
      "\n",
      "  sns.distplot(df[[\"reading score\"]])   #Plotting a density curve to check for skewness\n"
     ]
    },
    {
     "data": {
      "text/plain": [
       "<Axes: ylabel='Density'>"
      ]
     },
     "execution_count": 57,
     "metadata": {},
     "output_type": "execute_result"
    },
    {
     "data": {
      "image/png": "[encoded data removed]",
      "text/plain": [
       "<Figure size 640x480 with 1 Axes>"
      ]
     },
     "metadata": {},
     "output_type": "display_data"
    }
   ],
   "source": [
    "sns.distplot(df[[\"reading score\"]])   #Plotting a density curve to check for skewness"
   ]
  },
  {
   "cell_type": "code",
   "execution_count": 58,
   "id": "89c655bc-d336-4288-a188-c130ffc77ea0",
   "metadata": {},
   "outputs": [
    {
     "name": "stderr",
     "output_type": "stream",
     "text": [
      "/tmp/ipykernel_3576/1320157149.py:1: UserWarning: \n",
      "\n",
      "`distplot` is a deprecated function and will be removed in seaborn v0.14.0.\n",
      "\n",
      "Please adapt your code to use either `displot` (a figure-level function with\n",
      "similar flexibility) or `histplot` (an axes-level function for histograms).\n",
      "\n",
      "For a guide to updating your code to use the new functions, please see\n",
      "https://gist.github.com/mwaskom/de44147ed2974457ad6372750bbe5751\n",
      "\n",
      "  sns.distplot(df[[\"writing score\"]])   #Plotting a density curve to check for skewness\n"
     ]
    },
    {
     "data": {
      "text/plain": [
       "<Axes: ylabel='Density'>"
      ]
     },
     "execution_count": 58,
     "metadata": {},
     "output_type": "execute_result"
    },
    {
     "data": {
      "image/png": "[encoded data removed]",
      "text/plain": [
       "<Figure size 640x480 with 1 Axes>"
      ]
     },
     "metadata": {},
     "output_type": "display_data"
    }
   ],
   "source": [
    "sns.distplot(df[[\"writing score\"]])   #Plotting a density curve to check for skewness"
   ]
  },
  {
   "cell_type": "code",
   "execution_count": 59,
   "id": "e8999c55-6a27-4278-9ea9-455bd951330b",
   "metadata": {},
   "outputs": [
    {
     "data": {
      "image/png": "[encoded data removed]",
      "text/plain": [
       "<Figure size 1700x100 with 1 Axes>"
      ]
     },
     "metadata": {},
     "output_type": "display_data"
    },
    {
     "data": {
      "image/png": "[encoded data removed]",
      "text/plain": [
       "<Figure size 1700x100 with 1 Axes>"
      ]
     },
     "metadata": {},
     "output_type": "display_data"
    },
    {
     "data": {
      "image/png": "[encoded data removed]",
      "text/plain": [
       "<Figure size 1700x100 with 1 Axes>"
      ]
     },
     "metadata": {},
     "output_type": "display_data"
    }
   ],
   "source": [
    "for column in numeric_cols:\n",
    "        plt.figure(figsize=(17,1))\n",
    "        sns.boxplot(data=df, x=column)   #Plotting box plots"
   ]
  },
  {
   "cell_type": "code",
   "execution_count": 60,
   "id": "a1a254bb-0119-475d-a1ce-dec1c321172e",
   "metadata": {},
   "outputs": [
    {
     "data": {
      "image/png": "[encoded data removed]",
      "text/plain": [
       "<Figure size 1000x1200 with 1 Axes>"
      ]
     },
     "metadata": {},
     "output_type": "display_data"
    }
   ],
   "source": [
    "plt.figure(figsize=(10,12))\n",
    "sns.boxplot(x=\"variable\", y=\"value\", data=pd.melt(df[numeric_cols]))\n",
    "\n",
    "plt.show()"
   ]
  },
  {
   "cell_type": "code",
   "execution_count": 61,
   "id": "3fd5f906-aa3e-4d95-8e12-19f070405141",
   "metadata": {},
   "outputs": [
    {
     "data": {
      "text/plain": [
       "gender                          object\n",
       "race/ethnicity                  object\n",
       "parental level of education     object\n",
       "lunch                           object\n",
       "test preparation course         object\n",
       "math score                     float64\n",
       "reading score                  float64\n",
       "writing score                  float64\n",
       "dtype: object"
      ]
     },
     "execution_count": 61,
     "metadata": {},
     "output_type": "execute_result"
    }
   ],
   "source": [
    "df.dtypes   #Checking data types"
   ]
  },
  {
   "cell_type": "code",
   "execution_count": 62,
   "id": "7cdc95c1-b4b7-42fa-9cf0-9da8d670a479",
   "metadata": {},
   "outputs": [
    {
     "data": {
      "text/plain": [
       "gender                          object\n",
       "race/ethnicity                  object\n",
       "parental level of education     object\n",
       "lunch                           object\n",
       "test preparation course         object\n",
       "math score                     float64\n",
       "reading score                  float64\n",
       "writing score                  float64\n",
       "dtype: object"
      ]
     },
     "execution_count": 62,
     "metadata": {},
     "output_type": "execute_result"
    }
   ],
   "source": [
    "df.dtypes"
   ]
  },
  {
   "cell_type": "code",
   "execution_count": 63,
   "id": "c5cf0c74-8368-48a4-b78b-f25b14b2156a",
   "metadata": {},
   "outputs": [
    {
     "name": "stdout",
     "output_type": "stream",
     "text": [
      "Original shape: (1000, 8)\n",
      "New shape: (992, 8)\n"
     ]
    }
   ],
   "source": [
    "from scipy import stats\n",
    "\n",
    "\n",
    "numeric_cols = df.select_dtypes(include=['float64', 'int64'])\n",
    "\n",
    "# Calculate z-scores\n",
    "z = np.abs(stats.zscore(numeric_cols))\n",
    "\n",
    "# Find rows where z-scores for all numeric columns are less than the threshold\n",
    "threshold = 3\n",
    "mask = (z < threshold).all(axis=1)  # Boolean mask for rows to keep\n",
    "\n",
    "# Create a new DataFrame without outliers\n",
    "df_new = df[mask]\n",
    "\n",
    "# Print shapes to confirm changes\n",
    "print(\"Original shape:\", df.shape)\n",
    "print(\"New shape:\", df_new.shape)"
   ]
  },
  {
   "cell_type": "code",
   "execution_count": 64,
   "id": "a444456c-599b-4700-ba52-19d697d754b9",
   "metadata": {},
   "outputs": [
    {
     "name": "stdout",
     "output_type": "stream",
     "text": [
      "math score       18.0\n",
      "reading score    19.0\n",
      "writing score    19.0\n",
      "dtype: float64\n"
     ]
    }
   ],
   "source": [
    "numeric_cols = df_new.select_dtypes(include=['float64', 'int64'])\n",
    "\n",
    "# Calculate the 1st (Q1) and 3rd (Q3) quartiles\n",
    "Q1 = numeric_cols.quantile(0.25)\n",
    "Q3 = numeric_cols.quantile(0.75)\n",
    "\n",
    "# Calculate the Interquartile Range (IQR)\n",
    "IQR = Q3 - Q1\n",
    "\n",
    "# Print the IQR\n",
    "print(IQR)"
   ]
  },
  {
   "cell_type": "code",
   "execution_count": 65,
   "id": "cf2af5d7-4cf8-4903-9341-2eaa2aebbeaf",
   "metadata": {},
   "outputs": [
    {
     "name": "stdout",
     "output_type": "stream",
     "text": [
      "math score       31.0\n",
      "reading score    31.5\n",
      "writing score    30.5\n",
      "dtype: float64 math score       103.0\n",
      "reading score    107.5\n",
      "writing score    106.5\n",
      "dtype: float64\n"
     ]
    }
   ],
   "source": [
    "#Calculating the low and high values\n",
    "\n",
    "low = Q1 - 1.5 * IQR\n",
    "high = Q3+1.5*IQR\n",
    "print(low,high)"
   ]
  },
  {
   "cell_type": "code",
   "execution_count": 66,
   "id": "99b3d4b5-7660-4a3b-b33e-edf7184e75ba",
   "metadata": {},
   "outputs": [],
   "source": [
    "#Removing the outliers by checking if the value is less than the low limit or if the value is more than the high limit \n",
    "\n",
    "df_normalised = df_new.drop(df_new[(df_new['math score'] > high['math score']) & (df_new['math score'] < low['math score'])].index)   #Removing the outliers using IQR"
   ]
  },
  {
   "cell_type": "code",
   "execution_count": 67,
   "id": "ffe1d040-63ed-463a-9e14-18d454b77763",
   "metadata": {},
   "outputs": [],
   "source": [
    "df_normalised = df_new.drop(df_new[(df_new['reading score'] > high['reading score']) & (df_new['reading score'] < low['reading score'])].index)"
   ]
  },
  {
   "cell_type": "code",
   "execution_count": 68,
   "id": "f441aea9-5715-41f2-9b7b-4c2be1a18641",
   "metadata": {},
   "outputs": [],
   "source": [
    "df_normalised = df_new.drop(df_new[(df_new['writing score'] > high['writing score']) & (df_new['writing score'] < low['writing score'])].index)"
   ]
  },
  {
   "cell_type": "code",
   "execution_count": 69,
   "id": "74f48f40-c6f3-4a02-ab4f-0bc1cb82a924",
   "metadata": {},
   "outputs": [
    {
     "data": {
      "image/png": "[encoded data removed]",
      "text/plain": [
       "<Figure size 640x480 with 1 Axes>"
      ]
     },
     "metadata": {},
     "output_type": "display_data"
    }
   ],
   "source": [
    "sns.boxplot(x=\"variable\", y=\"value\", data=pd.melt(numeric_cols))\n",
    "\n",
    "plt.show()"
   ]
  },
  {
   "cell_type": "code",
   "execution_count": 70,
   "id": "f09386f6-a75a-4c81-b1d2-6dde303c28df",
   "metadata": {},
   "outputs": [
    {
     "data": {
      "text/html": [
       "<div>\n",
       "<style scoped>\n",
       "    .dataframe tbody tr th:only-of-type {\n",
       "        vertical-align: middle;\n",
       "    }\n",
       "\n",
       "    .dataframe tbody tr th {\n",
       "        vertical-align: top;\n",
       "    }\n",
       "\n",
       "    .dataframe thead th {\n",
       "        text-align: right;\n",
       "    }\n",
       "</style>\n",
       "<table border=\"1\" class=\"dataframe\">\n",
       "  <thead>\n",
       "    <tr style=\"text-align: right;\">\n",
       "      <th></th>\n",
       "      <th>math score</th>\n",
       "      <th>reading score</th>\n",
       "      <th>writing score</th>\n",
       "    </tr>\n",
       "  </thead>\n",
       "  <tbody>\n",
       "    <tr>\n",
       "      <th>count</th>\n",
       "      <td>992.000000</td>\n",
       "      <td>992.000000</td>\n",
       "      <td>992.000000</td>\n",
       "    </tr>\n",
       "    <tr>\n",
       "      <th>mean</th>\n",
       "      <td>66.380040</td>\n",
       "      <td>69.497984</td>\n",
       "      <td>68.494960</td>\n",
       "    </tr>\n",
       "    <tr>\n",
       "      <th>std</th>\n",
       "      <td>14.229265</td>\n",
       "      <td>13.703948</td>\n",
       "      <td>14.118211</td>\n",
       "    </tr>\n",
       "    <tr>\n",
       "      <th>min</th>\n",
       "      <td>23.000000</td>\n",
       "      <td>28.000000</td>\n",
       "      <td>27.000000</td>\n",
       "    </tr>\n",
       "    <tr>\n",
       "      <th>25%</th>\n",
       "      <td>58.000000</td>\n",
       "      <td>60.000000</td>\n",
       "      <td>59.000000</td>\n",
       "    </tr>\n",
       "    <tr>\n",
       "      <th>50%</th>\n",
       "      <td>66.000000</td>\n",
       "      <td>70.000000</td>\n",
       "      <td>69.000000</td>\n",
       "    </tr>\n",
       "    <tr>\n",
       "      <th>75%</th>\n",
       "      <td>76.000000</td>\n",
       "      <td>79.000000</td>\n",
       "      <td>78.000000</td>\n",
       "    </tr>\n",
       "    <tr>\n",
       "      <th>max</th>\n",
       "      <td>100.000000</td>\n",
       "      <td>100.000000</td>\n",
       "      <td>100.000000</td>\n",
       "    </tr>\n",
       "  </tbody>\n",
       "</table>\n",
       "</div>"
      ],
      "text/plain": [
       "       math score  reading score  writing score\n",
       "count  992.000000     992.000000     992.000000\n",
       "mean    66.380040      69.497984      68.494960\n",
       "std     14.229265      13.703948      14.118211\n",
       "min     23.000000      28.000000      27.000000\n",
       "25%     58.000000      60.000000      59.000000\n",
       "50%     66.000000      70.000000      69.000000\n",
       "75%     76.000000      79.000000      78.000000\n",
       "max    100.000000     100.000000     100.000000"
      ]
     },
     "execution_count": 70,
     "metadata": {},
     "output_type": "execute_result"
    }
   ],
   "source": [
    "df_normalised.describe()"
   ]
  },
  {
   "cell_type": "code",
   "execution_count": 71,
   "id": "92f00413-a122-49e8-bfa6-ce90a67b9faa",
   "metadata": {},
   "outputs": [
    {
     "name": "stdout",
     "output_type": "stream",
     "text": [
      "Scaled Dataset Using MinMaxScaler\n"
     ]
    },
    {
     "data": {
      "text/html": [
       "<div>\n",
       "<style scoped>\n",
       "    .dataframe tbody tr th:only-of-type {\n",
       "        vertical-align: middle;\n",
       "    }\n",
       "\n",
       "    .dataframe tbody tr th {\n",
       "        vertical-align: top;\n",
       "    }\n",
       "\n",
       "    .dataframe thead th {\n",
       "        text-align: right;\n",
       "    }\n",
       "</style>\n",
       "<table border=\"1\" class=\"dataframe\">\n",
       "  <thead>\n",
       "    <tr style=\"text-align: right;\">\n",
       "      <th></th>\n",
       "      <th>math score</th>\n",
       "      <th>reading score</th>\n",
       "      <th>writing score</th>\n",
       "    </tr>\n",
       "  </thead>\n",
       "  <tbody>\n",
       "    <tr>\n",
       "      <th>0</th>\n",
       "      <td>0.636364</td>\n",
       "      <td>0.611111</td>\n",
       "      <td>0.643836</td>\n",
       "    </tr>\n",
       "    <tr>\n",
       "      <th>1</th>\n",
       "      <td>0.597403</td>\n",
       "      <td>0.861111</td>\n",
       "      <td>0.835616</td>\n",
       "    </tr>\n",
       "    <tr>\n",
       "      <th>2</th>\n",
       "      <td>0.870130</td>\n",
       "      <td>0.930556</td>\n",
       "      <td>0.904110</td>\n",
       "    </tr>\n",
       "    <tr>\n",
       "      <th>3</th>\n",
       "      <td>0.311688</td>\n",
       "      <td>0.402778</td>\n",
       "      <td>0.232877</td>\n",
       "    </tr>\n",
       "    <tr>\n",
       "      <th>4</th>\n",
       "      <td>0.688312</td>\n",
       "      <td>0.694444</td>\n",
       "      <td>0.657534</td>\n",
       "    </tr>\n",
       "  </tbody>\n",
       "</table>\n",
       "</div>"
      ],
      "text/plain": [
       "   math score  reading score  writing score\n",
       "0    0.636364       0.611111       0.643836\n",
       "1    0.597403       0.861111       0.835616\n",
       "2    0.870130       0.930556       0.904110\n",
       "3    0.311688       0.402778       0.232877\n",
       "4    0.688312       0.694444       0.657534"
      ]
     },
     "execution_count": 71,
     "metadata": {},
     "output_type": "execute_result"
    }
   ],
   "source": [
    "from sklearn.preprocessing import MinMaxScaler\n",
    "\n",
    "# Copy the original dataframe\n",
    "df_min_max_scaled = df_normalised.copy()\n",
    "\n",
    "# Select numeric columns\n",
    "numeric_cols = df_min_max_scaled.select_dtypes(include=['float64', 'int64'])\n",
    "\n",
    "# Apply MinMaxScaler\n",
    "scaler = MinMaxScaler()\n",
    "df_scaled = scaler.fit_transform(numeric_cols)\n",
    "\n",
    "\n",
    "# Convert the scaled data into a DataFrame and assign the correct column names\n",
    "df_scaled = pd.DataFrame(df_scaled, columns=numeric_cols.columns)\n",
    "\n",
    "# Display the first few rows of the scaled dataset\n",
    "print(\"Scaled Dataset Using MinMaxScaler\")\n",
    "df_scaled.head()\n"
   ]
  },
  {
   "cell_type": "code",
   "execution_count": 72,
   "id": "22cf5a62-1f41-40a5-b809-06b21bbf81c5",
   "metadata": {},
   "outputs": [
    {
     "name": "stdout",
     "output_type": "stream",
     "text": [
      "Scaled Dataset Using StandardScaler\n"
     ]
    },
    {
     "data": {
      "text/html": [
       "<div>\n",
       "<style scoped>\n",
       "    .dataframe tbody tr th:only-of-type {\n",
       "        vertical-align: middle;\n",
       "    }\n",
       "\n",
       "    .dataframe tbody tr th {\n",
       "        vertical-align: top;\n",
       "    }\n",
       "\n",
       "    .dataframe thead th {\n",
       "        text-align: right;\n",
       "    }\n",
       "</style>\n",
       "<table border=\"1\" class=\"dataframe\">\n",
       "  <thead>\n",
       "    <tr style=\"text-align: right;\">\n",
       "      <th></th>\n",
       "      <th>math score</th>\n",
       "      <th>reading score</th>\n",
       "      <th>writing score</th>\n",
       "    </tr>\n",
       "  </thead>\n",
       "  <tbody>\n",
       "    <tr>\n",
       "      <th>0</th>\n",
       "      <td>0.395157</td>\n",
       "      <td>0.182668</td>\n",
       "      <td>0.390121</td>\n",
       "    </tr>\n",
       "    <tr>\n",
       "      <th>1</th>\n",
       "      <td>0.184218</td>\n",
       "      <td>1.496821</td>\n",
       "      <td>1.382249</td>\n",
       "    </tr>\n",
       "    <tr>\n",
       "      <th>2</th>\n",
       "      <td>1.660794</td>\n",
       "      <td>1.861863</td>\n",
       "      <td>1.736580</td>\n",
       "    </tr>\n",
       "    <tr>\n",
       "      <th>3</th>\n",
       "      <td>-1.362672</td>\n",
       "      <td>-0.912459</td>\n",
       "      <td>-1.735865</td>\n",
       "    </tr>\n",
       "    <tr>\n",
       "      <th>4</th>\n",
       "      <td>0.676410</td>\n",
       "      <td>0.620719</td>\n",
       "      <td>0.460988</td>\n",
       "    </tr>\n",
       "  </tbody>\n",
       "</table>\n",
       "</div>"
      ],
      "text/plain": [
       "   math score  reading score  writing score\n",
       "0    0.395157       0.182668       0.390121\n",
       "1    0.184218       1.496821       1.382249\n",
       "2    1.660794       1.861863       1.736580\n",
       "3   -1.362672      -0.912459      -1.735865\n",
       "4    0.676410       0.620719       0.460988"
      ]
     },
     "execution_count": 72,
     "metadata": {},
     "output_type": "execute_result"
    }
   ],
   "source": [
    "from sklearn.preprocessing import StandardScaler\n",
    "\n",
    "df_std_scaled = df_scaled.copy()\n",
    "\n",
    "#Apply Standard Scaling\n",
    "std_scaler = StandardScaler()\n",
    "df_std_scaled = std_scaler.fit_transform(numeric_cols)\n",
    "\n",
    "# Convert the scaled data into a DataFrame and assign the correct column names\n",
    "df_std_scaled = pd.DataFrame(df_std_scaled, columns=numeric_cols.columns)\n",
    " \n",
    "print(\"Scaled Dataset Using StandardScaler\")\n",
    "df_std_scaled.head()"
   ]
  },
  {
   "cell_type": "code",
   "execution_count": 73,
   "id": "721043d9-949a-4105-a0c8-c9a9488cbaf1",
   "metadata": {},
   "outputs": [
    {
     "data": {
      "text/html": [
       "<div>\n",
       "<style scoped>\n",
       "    .dataframe tbody tr th:only-of-type {\n",
       "        vertical-align: middle;\n",
       "    }\n",
       "\n",
       "    .dataframe tbody tr th {\n",
       "        vertical-align: top;\n",
       "    }\n",
       "\n",
       "    .dataframe thead th {\n",
       "        text-align: right;\n",
       "    }\n",
       "</style>\n",
       "<table border=\"1\" class=\"dataframe\">\n",
       "  <thead>\n",
       "    <tr style=\"text-align: right;\">\n",
       "      <th></th>\n",
       "      <th>math score</th>\n",
       "      <th>reading score</th>\n",
       "      <th>writing score</th>\n",
       "    </tr>\n",
       "  </thead>\n",
       "  <tbody>\n",
       "    <tr>\n",
       "      <th>count</th>\n",
       "      <td>9.920000e+02</td>\n",
       "      <td>9.920000e+02</td>\n",
       "      <td>9.920000e+02</td>\n",
       "    </tr>\n",
       "    <tr>\n",
       "      <th>mean</th>\n",
       "      <td>3.241135e-16</td>\n",
       "      <td>-1.325105e-16</td>\n",
       "      <td>-3.330669e-16</td>\n",
       "    </tr>\n",
       "    <tr>\n",
       "      <th>std</th>\n",
       "      <td>1.000504e+00</td>\n",
       "      <td>1.000504e+00</td>\n",
       "      <td>1.000504e+00</td>\n",
       "    </tr>\n",
       "    <tr>\n",
       "      <th>min</th>\n",
       "      <td>-3.050187e+00</td>\n",
       "      <td>-3.029705e+00</td>\n",
       "      <td>-2.940591e+00</td>\n",
       "    </tr>\n",
       "    <tr>\n",
       "      <th>25%</th>\n",
       "      <td>-5.892270e-01</td>\n",
       "      <td>-6.934334e-01</td>\n",
       "      <td>-6.728720e-01</td>\n",
       "    </tr>\n",
       "    <tr>\n",
       "      <th>50%</th>\n",
       "      <td>-2.672183e-02</td>\n",
       "      <td>3.665144e-02</td>\n",
       "      <td>3.579030e-02</td>\n",
       "    </tr>\n",
       "    <tr>\n",
       "      <th>75%</th>\n",
       "      <td>6.764097e-01</td>\n",
       "      <td>6.937278e-01</td>\n",
       "      <td>6.735864e-01</td>\n",
       "    </tr>\n",
       "    <tr>\n",
       "      <th>max</th>\n",
       "      <td>2.363925e+00</td>\n",
       "      <td>2.226906e+00</td>\n",
       "      <td>2.232643e+00</td>\n",
       "    </tr>\n",
       "  </tbody>\n",
       "</table>\n",
       "</div>"
      ],
      "text/plain": [
       "         math score  reading score  writing score\n",
       "count  9.920000e+02   9.920000e+02   9.920000e+02\n",
       "mean   3.241135e-16  -1.325105e-16  -3.330669e-16\n",
       "std    1.000504e+00   1.000504e+00   1.000504e+00\n",
       "min   -3.050187e+00  -3.029705e+00  -2.940591e+00\n",
       "25%   -5.892270e-01  -6.934334e-01  -6.728720e-01\n",
       "50%   -2.672183e-02   3.665144e-02   3.579030e-02\n",
       "75%    6.764097e-01   6.937278e-01   6.735864e-01\n",
       "max    2.363925e+00   2.226906e+00   2.232643e+00"
      ]
     },
     "execution_count": 73,
     "metadata": {},
     "output_type": "execute_result"
    }
   ],
   "source": [
    "df_std_scaled.describe()"
   ]
  },
  {
   "cell_type": "code",
   "execution_count": 74,
   "id": "f4ceccd7-1694-49e2-bdb6-011d4a6fcee3",
   "metadata": {},
   "outputs": [
    {
     "name": "stdout",
     "output_type": "stream",
     "text": [
      "math score       3.241135e-16\n",
      "reading score   -1.325105e-16\n",
      "writing score   -3.330669e-16\n",
      "dtype: float64\n",
      "math score      -0.026722\n",
      "reading score    0.036651\n",
      "writing score    0.035790\n",
      "dtype: float64\n",
      "   math score  reading score  writing score\n",
      "0   -0.026722       0.036651        0.03579\n"
     ]
    }
   ],
   "source": [
    "print(df_std_scaled.mean(numeric_only=True))\n",
    "print(df_std_scaled.median(numeric_only=True))\n",
    "print(df_std_scaled.mode(numeric_only=True))"
   ]
  },
  {
   "cell_type": "code",
   "execution_count": 75,
   "id": "770fae2f-07fd-4c36-9b2f-54a0fb4ac555",
   "metadata": {},
   "outputs": [
    {
     "name": "stdout",
     "output_type": "stream",
     "text": [
      "math score       66.380040\n",
      "reading score    69.497984\n",
      "writing score    68.494960\n",
      "dtype: float64\n",
      "math score       66.0\n",
      "reading score    70.0\n",
      "writing score    69.0\n",
      "dtype: float64\n",
      "   math score  reading score  writing score\n",
      "0        66.0           70.0           69.0\n"
     ]
    }
   ],
   "source": [
    "print(df_new.mean(numeric_only=True))\n",
    "print(df_new.median(numeric_only=True))\n",
    "print(df_new.mode(numeric_only=True))"
   ]
  },
  {
   "cell_type": "code",
   "execution_count": 76,
   "id": "392fa9de-9c33-459a-8667-836900172bd5",
   "metadata": {},
   "outputs": [
    {
     "name": "stdout",
     "output_type": "stream",
     "text": [
      "Before Normalisation\n",
      "Skewness of math score:  -0.16003707996253488\n",
      "Skewness of math score:  -0.2807656166284484\n",
      "Skewness of math score:  -0.31771048869740626\n"
     ]
    }
   ],
   "source": [
    "#Checking the skewness of the original data\n",
    "\n",
    "print(\"Before Normalisation\")\n",
    "\n",
    "\n",
    "print(\"Skewness of math score: \",df['math score'].skew())\n",
    "print(\"Skewness of math score: \",df['reading score'].skew())\n",
    "print(\"Skewness of math score: \",df['writing score'].skew())"
   ]
  },
  {
   "cell_type": "code",
   "execution_count": 77,
   "id": "64673b13-8161-4de5-9dae-c5ea955cc6de",
   "metadata": {},
   "outputs": [
    {
     "name": "stdout",
     "output_type": "stream",
     "text": [
      "After Normalisation\n",
      "Skewness of math score:  -0.07388597937422905\n",
      "Skewness of reading score:  -0.14397157141423444\n",
      "Skewness of writing score:  -0.14515630960695922\n"
     ]
    }
   ],
   "source": [
    "#Checking the skewness of the normalised data\n",
    "\n",
    "print(\"After Normalisation\")\n",
    "\n",
    "print(\"Skewness of math score: \",df_std_scaled ['math score'].skew())\n",
    "print(\"Skewness of reading score: \",df_std_scaled ['reading score'].skew())\n",
    "print(\"Skewness of writing score: \",df_std_scaled ['writing score'].skew())"
   ]
  },
  {
   "cell_type": "code",
   "execution_count": 78,
   "id": "55b6b125-a8c6-4b49-8110-b4a3cf07ed05",
   "metadata": {},
   "outputs": [
    {
     "data": {
      "text/html": [
       "<div>\n",
       "<style scoped>\n",
       "    .dataframe tbody tr th:only-of-type {\n",
       "        vertical-align: middle;\n",
       "    }\n",
       "\n",
       "    .dataframe tbody tr th {\n",
       "        vertical-align: top;\n",
       "    }\n",
       "\n",
       "    .dataframe thead th {\n",
       "        text-align: right;\n",
       "    }\n",
       "</style>\n",
       "<table border=\"1\" class=\"dataframe\">\n",
       "  <thead>\n",
       "    <tr style=\"text-align: right;\">\n",
       "      <th></th>\n",
       "      <th>math score</th>\n",
       "      <th>reading score</th>\n",
       "      <th>writing score</th>\n",
       "    </tr>\n",
       "  </thead>\n",
       "  <tbody>\n",
       "    <tr>\n",
       "      <th>count</th>\n",
       "      <td>9.920000e+02</td>\n",
       "      <td>9.920000e+02</td>\n",
       "      <td>9.920000e+02</td>\n",
       "    </tr>\n",
       "    <tr>\n",
       "      <th>mean</th>\n",
       "      <td>3.241135e-16</td>\n",
       "      <td>-1.325105e-16</td>\n",
       "      <td>-3.330669e-16</td>\n",
       "    </tr>\n",
       "    <tr>\n",
       "      <th>std</th>\n",
       "      <td>1.000504e+00</td>\n",
       "      <td>1.000504e+00</td>\n",
       "      <td>1.000504e+00</td>\n",
       "    </tr>\n",
       "    <tr>\n",
       "      <th>min</th>\n",
       "      <td>-3.050187e+00</td>\n",
       "      <td>-3.029705e+00</td>\n",
       "      <td>-2.940591e+00</td>\n",
       "    </tr>\n",
       "    <tr>\n",
       "      <th>25%</th>\n",
       "      <td>-5.892270e-01</td>\n",
       "      <td>-6.934334e-01</td>\n",
       "      <td>-6.728720e-01</td>\n",
       "    </tr>\n",
       "    <tr>\n",
       "      <th>50%</th>\n",
       "      <td>-2.672183e-02</td>\n",
       "      <td>3.665144e-02</td>\n",
       "      <td>3.579030e-02</td>\n",
       "    </tr>\n",
       "    <tr>\n",
       "      <th>75%</th>\n",
       "      <td>6.764097e-01</td>\n",
       "      <td>6.937278e-01</td>\n",
       "      <td>6.735864e-01</td>\n",
       "    </tr>\n",
       "    <tr>\n",
       "      <th>max</th>\n",
       "      <td>2.363925e+00</td>\n",
       "      <td>2.226906e+00</td>\n",
       "      <td>2.232643e+00</td>\n",
       "    </tr>\n",
       "  </tbody>\n",
       "</table>\n",
       "</div>"
      ],
      "text/plain": [
       "         math score  reading score  writing score\n",
       "count  9.920000e+02   9.920000e+02   9.920000e+02\n",
       "mean   3.241135e-16  -1.325105e-16  -3.330669e-16\n",
       "std    1.000504e+00   1.000504e+00   1.000504e+00\n",
       "min   -3.050187e+00  -3.029705e+00  -2.940591e+00\n",
       "25%   -5.892270e-01  -6.934334e-01  -6.728720e-01\n",
       "50%   -2.672183e-02   3.665144e-02   3.579030e-02\n",
       "75%    6.764097e-01   6.937278e-01   6.735864e-01\n",
       "max    2.363925e+00   2.226906e+00   2.232643e+00"
      ]
     },
     "execution_count": 78,
     "metadata": {},
     "output_type": "execute_result"
    }
   ],
   "source": [
    "df_std_scaled.describe()"
   ]
  },
  {
   "cell_type": "code",
   "execution_count": 79,
   "id": "3db0b439-5aa2-4860-bf02-f2bcf97acb2e",
   "metadata": {},
   "outputs": [
    {
     "data": {
      "image/png": "[encoded data removed]",
      "text/plain": [
       "<Figure size 640x480 with 1 Axes>"
      ]
     },
     "metadata": {},
     "output_type": "display_data"
    }
   ],
   "source": [
    "ax = df.plot.hist(bins=12, alpha=0.5)    #Plotting the histogramfor the original dataframe"
   ]
  },
  {
   "cell_type": "code",
   "execution_count": 80,
   "id": "34ff9356-d814-40e9-a7a4-40b7a3918f8a",
   "metadata": {},
   "outputs": [
    {
     "data": {
      "image/png": "[encoded data removed]",
      "text/plain": [
       "<Figure size 640x480 with 1 Axes>"
      ]
     },
     "metadata": {},
     "output_type": "display_data"
    }
   ],
   "source": [
    "ax = df_std_scaled.plot.hist(bins=12, alpha=0.5)   #Plotting the histogram for the scaled datafram"
   ]
  },
  {
   "cell_type": "code",
   "execution_count": null,
   "id": "36754732-c1d9-41fc-a459-118948376186",
   "metadata": {},
   "outputs": [],
   "source": []
  }
 ],
 "metadata": {
  "kernelspec": {
   "display_name": "Python 3 (ipykernel)",
   "language": "python",
   "name": "python3"
  },
  "language_info": {
   "codemirror_mode": {
    "name": "ipython",
    "version": 3
   },
   "file_extension": ".py",
   "mimetype": "text/x-python",
   "name": "python",
   "nbconvert_exporter": "python",
   "pygments_lexer": "ipython3",
   "version": "3.10.12"
  }
 },
 "nbformat": 4,
 "nbformat_minor": 5
}
